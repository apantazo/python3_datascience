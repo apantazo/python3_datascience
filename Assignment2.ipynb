{
 "cells": [
  {
   "cell_type": "markdown",
   "metadata": {},
   "source": [
    "# ASSIGNMENT 2\n",
    "<hr>"
   ]
  },
  {
   "cell_type": "markdown",
   "metadata": {},
   "source": [
    "# TASK 1"
   ]
  },
  {
   "cell_type": "markdown",
   "metadata": {},
   "source": [
    "1.1 Write a Python Program to implement your own myreduce() function which works exactly\n",
    "like Python's built-in function reduce()"
   ]
  },
  {
   "cell_type": "code",
   "execution_count": 1,
   "metadata": {},
   "outputs": [
    {
     "name": "stdout",
     "output_type": "stream",
     "text": [
      "The maximum number of test_list is 9\n"
     ]
    }
   ],
   "source": [
    "def myreduce(anyfunc, seq):\n",
    "    result = seq[0] \n",
    "    for item in seq[1:]:\n",
    "        result = anyfunc(result, item)\n",
    "\n",
    "    return result\n",
    "\n",
    "\n",
    "def maximum(x,y):\n",
    "    if x>y:\n",
    "        return x\n",
    "    else:\n",
    "        return y\n",
    "\n",
    "test_list=[1,3,6,7,8,9]\n",
    "print('The maximum number of test_list is {}'.format(myreduce(maximum, test_list)))"
   ]
  },
  {
   "cell_type": "markdown",
   "metadata": {},
   "source": [
    "1.2 Write a Python program to implement your own myfilter() function which works exactly\n",
    "like Python's built-in function filter()"
   ]
  },
  {
   "cell_type": "code",
   "execution_count": 4,
   "metadata": {},
   "outputs": [
    {
     "name": "stdout",
     "output_type": "stream",
     "text": [
      "Filter even numbers of numbers_list ---> [0, 2, 4, 6, 8]\n"
     ]
    }
   ],
   "source": [
    "def myfilter(anyfunc, seq):\n",
    "    result = []\n",
    "    for item in seq:\n",
    "        if anyfunc(item):\n",
    "            result.append(item)            \n",
    "    return result\n",
    "\n",
    "def iseven(x):\n",
    "    if x%2==0: \n",
    "        return True \n",
    "    return False\n",
    "\n",
    "numbers_list=[0,1,2,3,4,5,6,7,8,9]\n",
    "print(\"Filter even numbers of numbers_list ---> {}\".format(myfilter(iseven,numbers_list)))"
   ]
  },
  {
   "cell_type": "markdown",
   "metadata": {},
   "source": [
    "2 Implement List comprehensions to produce the following lists.\n",
    "Write List comprehensions to produce the following Lists\n",
    "<br>\n",
    "<br>\n",
    "['x', 'xx', 'xxx', 'xxxx', 'y', 'yy', 'yyy', 'yyyy', 'z', 'zz', 'zzz', 'zzzz']\n",
    "<br>\n",
    "['x', 'y', 'z', 'xx', 'yy', 'zz', 'xxx', 'yyy', 'zzz', 'xxxx', 'yyyy', 'zzzz']\n",
    "<br>\n",
    "[[2], [3], [4], [3], [4], [5], [4], [5], [6]] <br>[[2, 3, 4, 5], [3, 4, 5, 6],\n",
    "[4, 5, 6, 7], [5, 6, 7, 8]]\n",
    "<br>\n",
    "[(1, 1), (2, 1), (3, 1), (1, 2), (2, 2), (3, 2), (1, 3), (2, 3), (3, 3)]"
   ]
  },
  {
   "cell_type": "code",
   "execution_count": 5,
   "metadata": {},
   "outputs": [
    {
     "name": "stdout",
     "output_type": "stream",
     "text": [
      "['x', 'xx', 'xxx', 'xxxx', 'y', 'yy', 'yyy', 'yyyy', 'z', 'zz', 'zzz', 'zzzz']\n",
      "['x', 'y', 'z', 'xx', 'yy', 'zz', 'xxx', 'yyy', 'zzz', 'xxxx', 'yyyy', 'zzzz']\n",
      "[[2], [3], [4], [3], [4], [5], [4], [5], [6]]\n",
      "[[2, 3, 4, 5], [3, 4, 5, 6], [4, 5, 6, 7], [5, 6, 7, 8]]\n",
      "[(1, 1), (2, 1), (3, 1), (1, 2), (2, 2), (3, 2), (1, 3), (2, 3), (3, 3)]\n"
     ]
    }
   ],
   "source": [
    "mylist=['x','y','z']\n",
    "\n",
    "first_list=[char*num for char in mylist for num in range(1,5)]\n",
    "print(first_list)\n",
    "\n",
    "second_list=[char*num for num in range(1,5) for char in mylist]\n",
    "print(second_list)\n",
    "\n",
    "input_list=[2,3,4]\n",
    "third_list=[[char+num] for char in input_list for num in range(0,3)]\n",
    "print(third_list)\n",
    "\n",
    "input_list2=[2,3,4,5]\n",
    "fourth_list=[[char+num for char in input_list2] for num in range(0,4)]\n",
    "print(fourth_list)\n",
    "\n",
    "input_list3=[1,2,3]\n",
    "fifth_list = [ (b,a) for a in input_list3 for b in input_list3]\n",
    "print(fifth_list)"
   ]
  },
  {
   "cell_type": "markdown",
   "metadata": {},
   "source": [
    "3.\n",
    "Implement a function longestWord() that takes a list of words and returns the longest one."
   ]
  },
  {
   "cell_type": "code",
   "execution_count": 6,
   "metadata": {},
   "outputs": [
    {
     "data": {
      "text/plain": [
       "'Longest word is : JavaScript with 10 characters'"
      ]
     },
     "execution_count": 6,
     "metadata": {},
     "output_type": "execute_result"
    }
   ],
   "source": [
    "def longestWord(mylist):\n",
    "    count=0\n",
    "    longest=''\n",
    "    for word in mylist:\n",
    "        if  len(word)>count:\n",
    "            count=len(word)\n",
    "            longest=word\n",
    "    return \"Longest word is : {} with {} characters\".format(longest,count)\n",
    "\n",
    "longestWord(['Python','Java','Ruby','C++','JavaScript'])"
   ]
  },
  {
   "cell_type": "markdown",
   "metadata": {},
   "source": [
    "# TASK 2"
   ]
  },
  {
   "cell_type": "markdown",
   "metadata": {},
   "source": [
    "1.1\n",
    "Write a Python Program(with class concepts) to find the area of the triangle using the below\n",
    "formula.\n",
    "area = (s*(s-a)*(s-b)*(s-c)) ** 0.5\n",
    "Function to take the length of the sides of triangle from user should be defined in the parent\n",
    "class and function to calculate the area should be defined in subclass."
   ]
  },
  {
   "cell_type": "code",
   "execution_count": 7,
   "metadata": {},
   "outputs": [
    {
     "name": "stdout",
     "output_type": "stream",
     "text": [
      "a= 5\n",
      "b= 4\n",
      "c= 3\n",
      "\n",
      "area = 6.0\n"
     ]
    }
   ],
   "source": [
    "class Poly():\n",
    "    def __init__(self, a, b, c):\n",
    "        self.a=float(a)\n",
    "        self.b=float(b)\n",
    "        self.c=float(c)\n",
    "        self.area=0\n",
    "    \n",
    "class Triangle(Poly):\n",
    "    def __init__(self, a, b, c):\n",
    "        Poly.__init__(self, a, b, c)\n",
    "        \n",
    "    def calculate_area(self):\n",
    "        s=(self.a+self.b+self.c)/2\n",
    "        self.area = float((s * (s - self.a) * (s - self.b) * (s - self.c))) ** 0.5\n",
    "    \n",
    "    def get_area(self):\n",
    "        return self.area\n",
    "    \n",
    "a, b, c = input(\"a= \"), input(\"b= \"), input(\"c= \")\n",
    "\n",
    "triangle=Triangle(a,b,c)\n",
    "triangle.calculate_area()\n",
    "\n",
    "print('\\n''area = {}'.format(triangle.get_area()))  "
   ]
  },
  {
   "cell_type": "markdown",
   "metadata": {},
   "source": [
    "1.2\n",
    "Write a function filter_long_words() that takes a list of words and an integer n and returns the list\n",
    "of words that are longer than n."
   ]
  },
  {
   "cell_type": "code",
   "execution_count": 8,
   "metadata": {},
   "outputs": [
    {
     "data": {
      "text/plain": [
       "['Basketball', 'Baseball']"
      ]
     },
     "execution_count": 8,
     "metadata": {},
     "output_type": "execute_result"
    }
   ],
   "source": [
    "def filter_long_words(mylist, n):\n",
    "    output=[]\n",
    "    for word in mylist:\n",
    "        if len(word)>n:\n",
    "            output.append(word)\n",
    "    return output\n",
    "\n",
    "filter_long_words(['Basketball','Baseball','Cricket','Tennis'],7)"
   ]
  },
  {
   "cell_type": "markdown",
   "metadata": {},
   "source": [
    "2.1\n",
    "Write a Python program using function concept that maps list of words into a list of integers\n",
    "representing the lengths of the corresponding words . <br>\n",
    "<b>Hint:</b> If a list [ ab,cde,erty] is passed on to the python function output should come as [2,3,4] <br>\n",
    "Here 2,3 and 4 are the lengths of the words in the list."
   ]
  },
  {
   "cell_type": "code",
   "execution_count": 10,
   "metadata": {},
   "outputs": [
    {
     "data": {
      "text/plain": [
       "[4, 3, 6]"
      ]
     },
     "execution_count": 10,
     "metadata": {},
     "output_type": "execute_result"
    }
   ],
   "source": [
    "def word_to_integer(alist):\n",
    "    int_list=[]\n",
    "    for word in alist:\n",
    "        int_list.append(len(word))\n",
    "    return int_list\n",
    "        \n",
    "word_to_integer(['John','Jim','George'])"
   ]
  },
  {
   "cell_type": "markdown",
   "metadata": {},
   "source": [
    "2.2\n",
    "Write a Python function which takes a character (i.e. a string of length 1) and returns True if it is\n",
    "a vowel, False otherwise."
   ]
  },
  {
   "cell_type": "code",
   "execution_count": 11,
   "metadata": {},
   "outputs": [
    {
     "name": "stdout",
     "output_type": "stream",
     "text": [
      "True\n",
      "False\n"
     ]
    }
   ],
   "source": [
    "def isVowel(char):\n",
    "    vowels= ('A','a','E','e','I','i','O','o','U','u')\n",
    "    if char not in vowels:\n",
    "        return False\n",
    "    return True\n",
    "\n",
    "#example1\n",
    "print(isVowel('a'))\n",
    "\n",
    "#example2\n",
    "print(isVowel('b'))"
   ]
  }
 ],
 "metadata": {
  "kernelspec": {
   "display_name": "Python 3",
   "language": "python",
   "name": "python3"
  },
  "language_info": {
   "codemirror_mode": {
    "name": "ipython",
    "version": 3
   },
   "file_extension": ".py",
   "mimetype": "text/x-python",
   "name": "python",
   "nbconvert_exporter": "python",
   "pygments_lexer": "ipython3",
   "version": "3.7.3"
  }
 },
 "nbformat": 4,
 "nbformat_minor": 4
}
